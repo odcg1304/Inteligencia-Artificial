{
  "nbformat": 4,
  "nbformat_minor": 0,
  "metadata": {
    "colab": {
      "provenance": [],
      "authorship_tag": "ABX9TyOG/ZmNx/FKIseRcb227tM4",
      "include_colab_link": true
    },
    "kernelspec": {
      "name": "python3",
      "display_name": "Python 3"
    },
    "language_info": {
      "name": "python"
    }
  },
  "cells": [
    {
      "cell_type": "markdown",
      "metadata": {
        "id": "view-in-github",
        "colab_type": "text"
      },
      "source": [
        "<a href=\"https://colab.research.google.com/github/odcg1304/Inteligencia-Artificial/blob/main/Tarea2.ipynb\" target=\"_parent\"><img src=\"https://colab.research.google.com/assets/colab-badge.svg\" alt=\"Open In Colab\"/></a>"
      ]
    },
    {
      "cell_type": "markdown",
      "source": [
        "# **Tarea 2: Basics on Python**"
      ],
      "metadata": {
        "id": "EdxxKUq4E1PZ"
      }
    },
    {
      "cell_type": "markdown",
      "source": [
        "Oscar Daniel Cavazos Garza  1996221"
      ],
      "metadata": {
        "id": "w3JLAMbbFuP8"
      }
    },
    {
      "cell_type": "markdown",
      "source": [
        "Instructions:\n",
        "1. Text Analysis Tool: Create a Python program that reads a text file and performs various analyses on its content. The program should: Count the number of words, sentences, and paragraphs. Calculate the average word length. Identify the most common words and their frequencies.\n",
        "\n",
        "2. Hangman Game: Create a Python program that allows a user to play the game of Hangman. The program should randomly select a word from a predefined list, and the player must guess letters one at a time until they guess the word correctly or run out of attempts.\n",
        "\n",
        "3. Number Guessing Game: Create a program that generates a random number between 1 and 100, and then asks the user to guess the number. The program should provide hints to the user if the guessed number is greater or less than the target number, and keep asking for a new guess until the user guesses correctly."
      ],
      "metadata": {
        "id": "6m5qccmuFDHZ"
      }
    },
    {
      "cell_type": "code",
      "source": [
        "#Text Analysis Tool\n",
        "\n",
        "def analyze_text_file(filename):\n",
        "  with open(filename, \"r\") as file:\n",
        "    text = file.read()\n",
        "  words = text.split()\n",
        "  num_words = len(words)\n",
        "  sentences = text.split(\".\")\n",
        "  num_sentences = len(sentences)\n",
        "  paragraphs = text.split(\"\\n\\n\")\n",
        "  num_paragraphs = len(paragraphs)\n",
        "  total_length = sum(len(word) for word in words)\n",
        "  avg_word_length = total_length / num_words\n",
        "  word_counts = {}\n",
        "  for word in words:\n",
        "    word = word.lower()\n",
        "    if word in word_counts:\n",
        "      word_counts[word] += 1\n",
        "    else:\n",
        "      word_counts[word] = 1\n",
        "\n",
        "  sorted_word_counts = sorted(word_counts.items(), key=lambda item: item[1], reverse=True)\n",
        "\n",
        "  print(\"Results: \\n\")\n",
        "\n",
        "  print(\"Number of words:\", num_words)\n",
        "  print(\"Number of sentences:\", num_sentences)\n",
        "  print(\"Number of paragraphs:\", num_paragraphs)\n",
        "  print(\"Average word length:\", avg_word_length)\n",
        "  print(\"Most common words:\")\n",
        "  for word, count in sorted_word_counts[:3]:\n",
        "    print(f\"- {word}: {count}\")\n",
        "\n",
        "filename = \"TestFile.txt\"\n",
        "analyze_text_file(filename)"
      ],
      "metadata": {
        "id": "LsTCQxSRF0uD",
        "colab": {
          "base_uri": "https://localhost:8080/"
        },
        "outputId": "09d36a50-5983-4994-c4ba-b3acefe8fce1"
      },
      "execution_count": 4,
      "outputs": [
        {
          "output_type": "stream",
          "name": "stdout",
          "text": [
            "Results: \n",
            "\n",
            "Number of words: 46\n",
            "Number of sentences: 3\n",
            "Number of paragraphs: 2\n",
            "Average word length: 4.717391304347826\n",
            "Most common words:\n",
            "- the: 3\n",
            "- and: 3\n",
            "- document: 2\n"
          ]
        }
      ]
    },
    {
      "cell_type": "code",
      "source": [
        "#Hangman Game:\n",
        "\n",
        "import random\n",
        "\n",
        "# Words to choose\n",
        "words = ['Artificial', 'Intelligence', 'Machine', 'Learning', 'Neural', 'Netwrok']\n",
        "word = random.choice(words)\n",
        "guesses = ['_'] * len(word)\n",
        "max_incorrect_guesses = 6\n",
        "incorrect_guesses = 0\n",
        "guessed_letters = []\n",
        "\n",
        "while True:\n",
        "    print(' '.join(guesses))\n",
        "    print(f'Incorrect guesses: {incorrect_guesses}/{max_incorrect_guesses}')\n",
        "    print(f'Guessed letters: {\", \".join(guessed_letters)}')\n",
        "\n",
        "    guess = input('Guess a letter: ').lower()\n",
        "    if len(guess) != 1 or not guess.isalpha():\n",
        "        print('Please enter a single letter.')\n",
        "        continue\n",
        "    if guess in guessed_letters:\n",
        "        print('You already guessed that letter. Try again.')\n",
        "        continue\n",
        "    guessed_letters.append(guess)\n",
        "    if guess in word:\n",
        "        for i in range(len(word)):\n",
        "            if word[i] == guess:\n",
        "                guesses[i] = guess\n",
        "    else:\n",
        "        incorrect_guesses += 1\n",
        "\n",
        "    if incorrect_guesses >= max_incorrect_guesses:\n",
        "        print(f'You lose! The word was {word}.')\n",
        "        break\n",
        "    elif ''.join(guesses) == word:\n",
        "        print(f'You win! The word was {word}.')\n",
        "        break"
      ],
      "metadata": {
        "colab": {
          "base_uri": "https://localhost:8080/"
        },
        "id": "EvWDl_79Ey1o",
        "outputId": "e7b036d1-bffe-4021-ffc8-7aeac90ee2ee"
      },
      "execution_count": 7,
      "outputs": [
        {
          "output_type": "stream",
          "name": "stdout",
          "text": [
            "_ _ _ _ _ _ _\n",
            "Incorrect guesses: 0/6\n",
            "Guessed letters: \n",
            "Guess a letter: a\n",
            "_ a _ _ _ _ _\n",
            "Incorrect guesses: 0/6\n",
            "Guessed letters: a\n",
            "Guess a letter: h\n",
            "_ a _ h _ _ _\n",
            "Incorrect guesses: 0/6\n",
            "Guessed letters: a, h\n",
            "Guess a letter: u\n",
            "_ a _ h _ _ _\n",
            "Incorrect guesses: 1/6\n",
            "Guessed letters: a, h, u\n",
            "Guess a letter: s\n",
            "_ a _ h _ _ _\n",
            "Incorrect guesses: 2/6\n",
            "Guessed letters: a, h, u, s\n",
            "Guess a letter: u\n",
            "You already guessed that letter. Try again.\n",
            "_ a _ h _ _ _\n",
            "Incorrect guesses: 2/6\n",
            "Guessed letters: a, h, u, s\n",
            "Guess a letter: s\n",
            "You already guessed that letter. Try again.\n",
            "_ a _ h _ _ _\n",
            "Incorrect guesses: 2/6\n",
            "Guessed letters: a, h, u, s\n",
            "Guess a letter: j\n",
            "_ a _ h _ _ _\n",
            "Incorrect guesses: 3/6\n",
            "Guessed letters: a, h, u, s, j\n",
            "Guess a letter: i\n",
            "_ a _ h i _ _\n",
            "Incorrect guesses: 3/6\n",
            "Guessed letters: a, h, u, s, j, i\n",
            "Guess a letter: r\n",
            "_ a _ h i _ _\n",
            "Incorrect guesses: 4/6\n",
            "Guessed letters: a, h, u, s, j, i, r\n",
            "Guess a letter: b\n",
            "_ a _ h i _ _\n",
            "Incorrect guesses: 5/6\n",
            "Guessed letters: a, h, u, s, j, i, r, b\n",
            "Guess a letter: t\n",
            "You lose! The word was Machine.\n"
          ]
        }
      ]
    },
    {
      "cell_type": "code",
      "source": [
        "#Number Guessing Game\n",
        "\n",
        "import random\n",
        "def play_guessing_game():\n",
        "  correct_number = random.randint(1, 100)\n",
        "  guess = None\n",
        "  num_guesses = 0\n",
        "  while guess != correct_number:\n",
        "    try:\n",
        "      guess = int(input(\"Guess a number between 1 and 100: \"))\n",
        "      num_guesses += 1\n",
        "    except ValueError:\n",
        "      print(\"Invalid input. Please enter a number.\")\n",
        "      continue\n",
        "#Hints\n",
        "    if guess < correct_number:\n",
        "      print(\"Too low, try again!\")\n",
        "    elif guess > correct_number:\n",
        "      print(\"Too high, try again!\")\n",
        "  print(f\"Congratulations! You guessed the number in {num_guesses} tries.\")\n",
        "\n",
        "play_guessing_game()\n"
      ],
      "metadata": {
        "colab": {
          "base_uri": "https://localhost:8080/"
        },
        "id": "-gIslcaZHLxT",
        "outputId": "54d85c66-1d04-435c-d9ab-81c74cbf8c09"
      },
      "execution_count": 8,
      "outputs": [
        {
          "output_type": "stream",
          "name": "stdout",
          "text": [
            "Guess a number between 1 and 100: 65\n",
            "Too low, try again!\n",
            "Guess a number between 1 and 100: 98\n",
            "Too high, try again!\n",
            "Guess a number between 1 and 100: 75\n",
            "Too high, try again!\n",
            "Guess a number between 1 and 100: 69\n",
            "Too low, try again!\n",
            "Guess a number between 1 and 100: 72\n",
            "Too high, try again!\n",
            "Guess a number between 1 and 100: 71\n",
            "Too high, try again!\n",
            "Guess a number between 1 and 100: 70\n",
            "Congratulations! You guessed the number in 7 tries.\n"
          ]
        }
      ]
    }
  ]
}